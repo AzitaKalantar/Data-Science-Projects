{
 "cells": [
  {
   "cell_type": "code",
   "execution_count": 1,
   "id": "5150a8fd",
   "metadata": {},
   "outputs": [],
   "source": [
    "import numpy as np\n",
    "import pandas as pd\n",
    "import matplotlib.pyplot as plt\n",
    "import seaborn as sns\n",
    "import os\n",
    "from IPython.display import Image"
   ]
  },
  {
   "cell_type": "code",
   "execution_count": 2,
   "id": "b1309861",
   "metadata": {},
   "outputs": [
    {
     "data": {
      "text/plain": [
       "(11565, 34)"
      ]
     },
     "execution_count": 2,
     "metadata": {},
     "output_type": "execute_result"
    }
   ],
   "source": [
    "data = pd.read_excel('Data/Dataset.xlsx', sheet_name = 'Sheet1')\n",
    "data.shape"
   ]
  },
  {
   "cell_type": "markdown",
   "id": "3a120408",
   "metadata": {},
   "source": [
    "### Handling Nulls as numpy.nan"
   ]
  },
  {
   "cell_type": "code",
   "execution_count": 3,
   "id": "d711d0f4",
   "metadata": {},
   "outputs": [
    {
     "data": {
      "text/plain": [
       "Age             5\n",
       "DriverRating    6\n",
       "dtype: int64"
      ]
     },
     "execution_count": 3,
     "metadata": {},
     "output_type": "execute_result"
    }
   ],
   "source": [
    "num_missing_data = data.loc[:, data.isnull().any() ].isnull().sum()\n",
    "num_missing_data"
   ]
  },
  {
   "cell_type": "markdown",
   "id": "c287306b",
   "metadata": {},
   "source": [
    "The number of missing data rows in the data is relatively small (regarding to the total number of rows). We can simply remove the rows containing missing data but before that let's check if the rows with missing data has made any fraud! the reason I do that is that there are a small number of rows that made fraud and if this rows belong to that group I intend to keep them."
   ]
  },
  {
   "cell_type": "code",
   "execution_count": 4,
   "id": "60c771ea",
   "metadata": {},
   "outputs": [
    {
     "data": {
      "text/plain": [
       "14       0\n",
       "23       0\n",
       "83       0\n",
       "2510     0\n",
       "4659     0\n",
       "5015     0\n",
       "7374     0\n",
       "8522     0\n",
       "9557     0\n",
       "10259    0\n",
       "11178    0\n",
       "Name: FraudFound_P, dtype: int64"
      ]
     },
     "execution_count": 4,
     "metadata": {},
     "output_type": "execute_result"
    }
   ],
   "source": [
    "data.loc[data.isnull().any(axis=1),\"FraudFound_P\"]"
   ]
  },
  {
   "cell_type": "markdown",
   "id": "c41ab72a",
   "metadata": {},
   "source": [
    "As all belong to not made a fraud, I prefer to delete them to avoid any data corruption. If I wanted to fill these columns, I would suggest the methods below :<br>\n",
    "Age : the mean of Age column <br>\n",
    "DriverRating : the mode of DriverRating column"
   ]
  },
  {
   "cell_type": "code",
   "execution_count": 5,
   "id": "27ed20d0",
   "metadata": {},
   "outputs": [],
   "source": [
    "data = data.drop(index = data[data.isnull().any(axis=1)].index)"
   ]
  },
  {
   "cell_type": "markdown",
   "id": "8752bf14",
   "metadata": {},
   "source": [
    "### Handling nulls with other representatives"
   ]
  },
  {
   "cell_type": "markdown",
   "id": "d0160d69",
   "metadata": {},
   "source": [
    "Some times, the null values in our data are not entered as np.nan which is recognizable by pandas.According to the unique values exist in the columns (see Part 1 - Data Exploratory) we have other forms of the null values in our data as well."
   ]
  },
  {
   "cell_type": "code",
   "execution_count": 6,
   "id": "7162ba3e",
   "metadata": {},
   "outputs": [
    {
     "name": "stdout",
     "output_type": "stream",
     "text": [
      "DayOfWeekClaimed = 0 :\n",
      "Int64Index([1146], dtype='int64')\n",
      "-----------------------------------------------------------------------------\n",
      "MonthClaimed = 0 :\n",
      "Int64Index([1146], dtype='int64')\n",
      "-----------------------------------------------------------------------------\n",
      "Days_Policy_Accident = none :\n",
      "Int64Index([  153,   555,   806,   918,   992,  1101,  1523,  1752,  1863,\n",
      "             2242,  2253,  2328,  2702,  2773,  2892,  3014,  3810,  4645,\n",
      "             5401,  5651,  5809,  6020,  6171,  6303,  6633,  6701,  6980,\n",
      "             7040,  7080,  7525,  7866,  9161,  9730, 10005, 10101, 10653,\n",
      "            11112, 11365, 11550],\n",
      "           dtype='int64')\n",
      "-----------------------------------------------------------------------------\n",
      "Days_Policy_Claim = none :\n",
      "Int64Index([1146], dtype='int64')\n",
      "-----------------------------------------------------------------------------\n",
      "PastNumberOfClaims = none :\n",
      "Int64Index([    0,     1,     5,     6,     9,    10,    11,    12,    13,\n",
      "               19,\n",
      "            ...\n",
      "            11537, 11539, 11541, 11544, 11546, 11548, 11555, 11561, 11563,\n",
      "            11564],\n",
      "           dtype='int64', length=3284)\n",
      "-----------------------------------------------------------------------------\n",
      "NumberOfSuppliments = none :\n",
      "Int64Index([    0,     1,     2,     6,     7,     8,     9,    10,    11,\n",
      "               12,\n",
      "            ...\n",
      "            11545, 11548, 11550, 11551, 11552, 11553, 11555, 11556, 11559,\n",
      "            11562],\n",
      "           dtype='int64', length=5325)\n"
     ]
    }
   ],
   "source": [
    "print( \"DayOfWeekClaimed = 0 :\")\n",
    "print(data.loc[data[\"DayOfWeekClaimed\"] == 0].index)\n",
    "print(\"-----------------------------------------------------------------------------\")\n",
    "print( \"MonthClaimed = 0 :\")\n",
    "print(data.loc[data[\"MonthClaimed\"] == 0].index)\n",
    "print(\"-----------------------------------------------------------------------------\")\n",
    "print( \"Days_Policy_Accident = none :\")\n",
    "print(data.loc[data[\"Days_Policy_Accident\"] == \"none\"].index)\n",
    "print(\"-----------------------------------------------------------------------------\")\n",
    "print( \"Days_Policy_Claim = none :\")\n",
    "print(data.loc[data[\"Days_Policy_Claim\"] == \"none\"].index)\n",
    "print(\"-----------------------------------------------------------------------------\")\n",
    "print( \"PastNumberOfClaims = none :\")\n",
    "print(data.loc[data[\"PastNumberOfClaims\"] == \"none\"].index)\n",
    "print(\"-----------------------------------------------------------------------------\")\n",
    "print( \"NumberOfSuppliments = none :\")\n",
    "print(data.loc[data[\"NumberOfSuppliments\"] == \"none\"].index)"
   ]
  },
  {
   "cell_type": "markdown",
   "id": "f88f2ea1",
   "metadata": {},
   "source": [
    "- **NumberOfSuppliments** and **PastNumberOfClaims** have many rows with category *none*. Here *none* is not a missing data but it is a category that we should take into account. so we don't remove or fill these two faetures.\n",
    "- The item number **1146** seems to be a faulty entery as it doesn't have sum common varibels (DayOfWeekClaimed ,MonthClaimed and Days_Policy_Claim) and it is the only entery which doen't have them. I check its FraudFound_P feature and they didn't make a fraud so we remove it from the data\n",
    "- **Days_Policy_Accident** is another column with none values. not many rows have this feature equal to none so we might be tempted to remove or fill these none values. before that lets have a look back on to its pie chart and see what percntage of this value had commited a fraud."
   ]
  },
  {
   "cell_type": "code",
   "execution_count": 7,
   "id": "72abf149",
   "metadata": {},
   "outputs": [
    {
     "data": {
      "image/png": "[encoded data removed]",
      "text/plain": [
       "<IPython.core.display.Image object>"
      ]
     },
     "execution_count": 7,
     "metadata": {},
     "output_type": "execute_result"
    }
   ],
   "source": [
    "Image(\"Figures/Part 1/Days_Policy_Accident.png\")"
   ]
  },
  {
   "cell_type": "markdown",
   "id": "24983d59",
   "metadata": {},
   "source": [
    "it is the category that has the most rate of crime! so we should't fill this value with anything or remove it. we should keep this as a category and use it for making decisions"
   ]
  },
  {
   "cell_type": "code",
   "execution_count": 8,
   "id": "78632221",
   "metadata": {},
   "outputs": [],
   "source": [
    "data = data.drop(index=1146)"
   ]
  },
  {
   "cell_type": "code",
   "execution_count": 9,
   "id": "51330b7e",
   "metadata": {},
   "outputs": [],
   "source": [
    "data = data.reset_index(drop=True)"
   ]
  },
  {
   "cell_type": "code",
   "execution_count": 10,
   "id": "56275624",
   "metadata": {},
   "outputs": [],
   "source": [
    "data.to_csv('Data/Part2_data.csv')"
   ]
  },
  {
   "cell_type": "code",
   "execution_count": null,
   "id": "6d998e0b",
   "metadata": {},
   "outputs": [],
   "source": []
  }
 ],
 "metadata": {
  "kernelspec": {
   "display_name": "Python 3 (ipykernel)",
   "language": "python",
   "name": "python3"
  },
  "language_info": {
   "codemirror_mode": {
    "name": "ipython",
    "version": 3
   },
   "file_extension": ".py",
   "mimetype": "text/x-python",
   "name": "python",
   "nbconvert_exporter": "python",
   "pygments_lexer": "ipython3",
   "version": "3.10.9"
  }
 },
 "nbformat": 4,
 "nbformat_minor": 5
}
