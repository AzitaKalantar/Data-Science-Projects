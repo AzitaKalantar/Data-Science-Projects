{
 "cells": [
  {
   "cell_type": "code",
   "execution_count": 1,
   "id": "0c0576f6",
   "metadata": {},
   "outputs": [],
   "source": [
    "import numpy as np\n",
    "import pandas as pd\n",
    "import matplotlib.pyplot as plt\n",
    "import seaborn as sns\n",
    "import os\n",
    "import warnings\n",
    "from sklearn.model_selection import train_test_split, RepeatedStratifiedKFold, cross_val_score\n",
    "from sklearn import metrics\n",
    "from sklearn.neural_network import MLPClassifier\n",
    "from sklearn.metrics import classification_report, confusion_matrix, accuracy_score\n",
    "from sklearn.linear_model import LogisticRegression\n",
    "from xgboost import XGBClassifier\n",
    "from sklearn.tree import DecisionTreeClassifier\n",
    "from sklearn.ensemble import RandomForestClassifier\n",
    "from sklearn.utils import resample"
   ]
  },
  {
   "cell_type": "code",
   "execution_count": 2,
   "id": "6503ef8d",
   "metadata": {},
   "outputs": [],
   "source": [
    "data_ss = pd.read_csv('Data/data_ss.csv',index_col=0)\n",
    "data_rs = pd.read_csv('Data/data_rs.csv',index_col=0)\n",
    "data_mms = pd.read_csv('Data/data_mms.csv',index_col=0)\n",
    "data = pd.read_csv('Data/Part3_data.csv',index_col=0)\n",
    "data_dic = {\"Standard Scaler\" : data_ss,\"Robust Scaler\": data_rs,\"MinMax Scaler\" : data_mms}"
   ]
  },
  {
   "cell_type": "code",
   "execution_count": 3,
   "id": "7b1d6d05",
   "metadata": {},
   "outputs": [],
   "source": [
    "def split_data(data,test_size=0.3,random_state = 101):\n",
    "    data, validation_df  = train_test_split(data,test_size=test_size,random_state=random_state)\n",
    "    X_train, X_test, y_train, y_test = train_test_split(data.drop('FraudFound_P',axis = 1),data['FraudFound_P'],test_size=test_size,random_state=random_state)\n",
    "    return validation_df,X_train, X_test, y_train, y_test"
   ]
  },
  {
   "cell_type": "code",
   "execution_count": 4,
   "id": "bc6c8692",
   "metadata": {},
   "outputs": [],
   "source": [
    "#predictions are based on probablity with threshold=0.5\n",
    "def eval_result(model, X_test, y_test):\n",
    "    with warnings.catch_warnings():\n",
    "        warnings.simplefilter(\"ignore\")\n",
    "        pred = model.predict(X_test)\n",
    "        print(classification_report(y_test, pred, target_names = ['Not Fraud', 'Fraud']))\n",
    "        display(pd.DataFrame(confusion_matrix(y_test, pred),columns = ['Predicted Not Fraud', 'Predicted Fraud'],index = ['Not Fraud', 'Fraud']))\n",
    "        \n",
    "#predictions are based on probablity with a user defined threshold. if threshold= 0.7, the probility of class 0 should be \n",
    "#more than 0.7 to assign 0 to the prediction. so the desicions are biased to have more class 1 in the predictions.\n",
    "def eval_result_with_threshold(model, X_test, y_test,threshold=0.5):\n",
    "    with warnings.catch_warnings():\n",
    "        warnings.simplefilter(\"ignore\")\n",
    "        probebilities = model.predict_proba(X_test)\n",
    "        pred = []\n",
    "        for probs in probebilities :\n",
    "            if probs[0] <= threshold :\n",
    "                pred.append(1)\n",
    "            else :\n",
    "                pred.append(0)\n",
    "        print(classification_report(y_test, pred, target_names = ['Not Fraud', 'Fraud']))\n",
    "        display(pd.DataFrame(confusion_matrix(y_test, pred),columns = ['Predicted Not Fraud', 'Predicted Fraud'],index = ['Not Fraud', 'Fraud']))        "
   ]
  },
  {
   "cell_type": "markdown",
   "id": "b5700cf8",
   "metadata": {},
   "source": [
    "### Logistic Regression"
   ]
  },
  {
   "cell_type": "code",
   "execution_count": 5,
   "id": "eeea520d",
   "metadata": {},
   "outputs": [
    {
     "name": "stdout",
     "output_type": "stream",
     "text": [
      "\n",
      "***************************************************************************************\n",
      "                                       Standard Scaler\n",
      "***************************************************************************************\n",
      "\n",
      "\n",
      "              precision    recall  f1-score   support\n",
      "\n",
      "   Not Fraud       0.98      0.66      0.79      2264\n",
      "       Fraud       0.15      0.84      0.26       162\n",
      "\n",
      "    accuracy                           0.67      2426\n",
      "   macro avg       0.57      0.75      0.52      2426\n",
      "weighted avg       0.93      0.67      0.76      2426\n",
      "\n"
     ]
    },
    {
     "data": {
      "text/html": [
       "<div>\n",
       "<style scoped>\n",
       "    .dataframe tbody tr th:only-of-type {\n",
       "        vertical-align: middle;\n",
       "    }\n",
       "\n",
       "    .dataframe tbody tr th {\n",
       "        vertical-align: top;\n",
       "    }\n",
       "\n",
       "    .dataframe thead th {\n",
       "        text-align: right;\n",
       "    }\n",
       "</style>\n",
       "<table border=\"1\" class=\"dataframe\">\n",
       "  <thead>\n",
       "    <tr style=\"text-align: right;\">\n",
       "      <th></th>\n",
       "      <th>Predicted Not Fraud</th>\n",
       "      <th>Predicted Fraud</th>\n",
       "    </tr>\n",
       "  </thead>\n",
       "  <tbody>\n",
       "    <tr>\n",
       "      <th>Not Fraud</th>\n",
       "      <td>1499</td>\n",
       "      <td>765</td>\n",
       "    </tr>\n",
       "    <tr>\n",
       "      <th>Fraud</th>\n",
       "      <td>26</td>\n",
       "      <td>136</td>\n",
       "    </tr>\n",
       "  </tbody>\n",
       "</table>\n",
       "</div>"
      ],
      "text/plain": [
       "           Predicted Not Fraud  Predicted Fraud\n",
       "Not Fraud                 1499              765\n",
       "Fraud                       26              136"
      ]
     },
     "metadata": {},
     "output_type": "display_data"
    },
    {
     "name": "stdout",
     "output_type": "stream",
     "text": [
      "\n",
      "***************************************************************************************\n",
      "                                       Robust Scaler\n",
      "***************************************************************************************\n",
      "\n",
      "\n",
      "              precision    recall  f1-score   support\n",
      "\n",
      "   Not Fraud       0.98      0.66      0.79      2264\n",
      "       Fraud       0.15      0.83      0.25       162\n",
      "\n",
      "    accuracy                           0.67      2426\n",
      "   macro avg       0.57      0.74      0.52      2426\n",
      "weighted avg       0.93      0.67      0.75      2426\n",
      "\n"
     ]
    },
    {
     "data": {
      "text/html": [
       "<div>\n",
       "<style scoped>\n",
       "    .dataframe tbody tr th:only-of-type {\n",
       "        vertical-align: middle;\n",
       "    }\n",
       "\n",
       "    .dataframe tbody tr th {\n",
       "        vertical-align: top;\n",
       "    }\n",
       "\n",
       "    .dataframe thead th {\n",
       "        text-align: right;\n",
       "    }\n",
       "</style>\n",
       "<table border=\"1\" class=\"dataframe\">\n",
       "  <thead>\n",
       "    <tr style=\"text-align: right;\">\n",
       "      <th></th>\n",
       "      <th>Predicted Not Fraud</th>\n",
       "      <th>Predicted Fraud</th>\n",
       "    </tr>\n",
       "  </thead>\n",
       "  <tbody>\n",
       "    <tr>\n",
       "      <th>Not Fraud</th>\n",
       "      <td>1486</td>\n",
       "      <td>778</td>\n",
       "    </tr>\n",
       "    <tr>\n",
       "      <th>Fraud</th>\n",
       "      <td>27</td>\n",
       "      <td>135</td>\n",
       "    </tr>\n",
       "  </tbody>\n",
       "</table>\n",
       "</div>"
      ],
      "text/plain": [
       "           Predicted Not Fraud  Predicted Fraud\n",
       "Not Fraud                 1486              778\n",
       "Fraud                       27              135"
      ]
     },
     "metadata": {},
     "output_type": "display_data"
    },
    {
     "name": "stdout",
     "output_type": "stream",
     "text": [
      "\n",
      "***************************************************************************************\n",
      "                                       MinMax Scaler\n",
      "***************************************************************************************\n",
      "\n",
      "\n",
      "              precision    recall  f1-score   support\n",
      "\n",
      "   Not Fraud       0.98      0.66      0.79      2264\n",
      "       Fraud       0.15      0.83      0.25       162\n",
      "\n",
      "    accuracy                           0.67      2426\n",
      "   macro avg       0.57      0.75      0.52      2426\n",
      "weighted avg       0.93      0.67      0.75      2426\n",
      "\n"
     ]
    },
    {
     "data": {
      "text/html": [
       "<div>\n",
       "<style scoped>\n",
       "    .dataframe tbody tr th:only-of-type {\n",
       "        vertical-align: middle;\n",
       "    }\n",
       "\n",
       "    .dataframe tbody tr th {\n",
       "        vertical-align: top;\n",
       "    }\n",
       "\n",
       "    .dataframe thead th {\n",
       "        text-align: right;\n",
       "    }\n",
       "</style>\n",
       "<table border=\"1\" class=\"dataframe\">\n",
       "  <thead>\n",
       "    <tr style=\"text-align: right;\">\n",
       "      <th></th>\n",
       "      <th>Predicted Not Fraud</th>\n",
       "      <th>Predicted Fraud</th>\n",
       "    </tr>\n",
       "  </thead>\n",
       "  <tbody>\n",
       "    <tr>\n",
       "      <th>Not Fraud</th>\n",
       "      <td>1497</td>\n",
       "      <td>767</td>\n",
       "    </tr>\n",
       "    <tr>\n",
       "      <th>Fraud</th>\n",
       "      <td>27</td>\n",
       "      <td>135</td>\n",
       "    </tr>\n",
       "  </tbody>\n",
       "</table>\n",
       "</div>"
      ],
      "text/plain": [
       "           Predicted Not Fraud  Predicted Fraud\n",
       "Not Fraud                 1497              767\n",
       "Fraud                       27              135"
      ]
     },
     "metadata": {},
     "output_type": "display_data"
    }
   ],
   "source": [
    "for name,data in data_dic.items() :\n",
    "    validation_df,X_train, X_test, y_train, y_test = split_data(data)\n",
    "    lgmodel = LogisticRegression(solver='lbfgs',n_jobs = -1,class_weight=\"balanced\")\n",
    "    lgmodel.fit(X_train, y_train)\n",
    "    print(\"\\n***************************************************************************************\")\n",
    "    print(\"                                       {}\".format(name))\n",
    "    print(\"***************************************************************************************\\n\\n\")\n",
    "    eval_result(lgmodel, X_test, y_test)"
   ]
  },
  {
   "cell_type": "markdown",
   "id": "f900b9a5",
   "metadata": {},
   "source": [
    "### Decision Tree"
   ]
  },
  {
   "cell_type": "code",
   "execution_count": 6,
   "id": "c59e7132",
   "metadata": {},
   "outputs": [
    {
     "name": "stdout",
     "output_type": "stream",
     "text": [
      "\n",
      "***************************************************************************************\n",
      "                                       Standard Scaler\n",
      "***************************************************************************************\n",
      "\n",
      "\n",
      "              precision    recall  f1-score   support\n",
      "\n",
      "   Not Fraud       0.94      0.94      0.94      2264\n",
      "       Fraud       0.20      0.20      0.20       162\n",
      "\n",
      "    accuracy                           0.89      2426\n",
      "   macro avg       0.57      0.57      0.57      2426\n",
      "weighted avg       0.89      0.89      0.89      2426\n",
      "\n"
     ]
    },
    {
     "data": {
      "text/html": [
       "<div>\n",
       "<style scoped>\n",
       "    .dataframe tbody tr th:only-of-type {\n",
       "        vertical-align: middle;\n",
       "    }\n",
       "\n",
       "    .dataframe tbody tr th {\n",
       "        vertical-align: top;\n",
       "    }\n",
       "\n",
       "    .dataframe thead th {\n",
       "        text-align: right;\n",
       "    }\n",
       "</style>\n",
       "<table border=\"1\" class=\"dataframe\">\n",
       "  <thead>\n",
       "    <tr style=\"text-align: right;\">\n",
       "      <th></th>\n",
       "      <th>Predicted Not Fraud</th>\n",
       "      <th>Predicted Fraud</th>\n",
       "    </tr>\n",
       "  </thead>\n",
       "  <tbody>\n",
       "    <tr>\n",
       "      <th>Not Fraud</th>\n",
       "      <td>2133</td>\n",
       "      <td>131</td>\n",
       "    </tr>\n",
       "    <tr>\n",
       "      <th>Fraud</th>\n",
       "      <td>129</td>\n",
       "      <td>33</td>\n",
       "    </tr>\n",
       "  </tbody>\n",
       "</table>\n",
       "</div>"
      ],
      "text/plain": [
       "           Predicted Not Fraud  Predicted Fraud\n",
       "Not Fraud                 2133              131\n",
       "Fraud                      129               33"
      ]
     },
     "metadata": {},
     "output_type": "display_data"
    },
    {
     "name": "stdout",
     "output_type": "stream",
     "text": [
      "\n",
      "***************************************************************************************\n",
      "                                       Robust Scaler\n",
      "***************************************************************************************\n",
      "\n",
      "\n",
      "              precision    recall  f1-score   support\n",
      "\n",
      "   Not Fraud       0.94      0.94      0.94      2264\n",
      "       Fraud       0.20      0.20      0.20       162\n",
      "\n",
      "    accuracy                           0.89      2426\n",
      "   macro avg       0.57      0.57      0.57      2426\n",
      "weighted avg       0.89      0.89      0.89      2426\n",
      "\n"
     ]
    },
    {
     "data": {
      "text/html": [
       "<div>\n",
       "<style scoped>\n",
       "    .dataframe tbody tr th:only-of-type {\n",
       "        vertical-align: middle;\n",
       "    }\n",
       "\n",
       "    .dataframe tbody tr th {\n",
       "        vertical-align: top;\n",
       "    }\n",
       "\n",
       "    .dataframe thead th {\n",
       "        text-align: right;\n",
       "    }\n",
       "</style>\n",
       "<table border=\"1\" class=\"dataframe\">\n",
       "  <thead>\n",
       "    <tr style=\"text-align: right;\">\n",
       "      <th></th>\n",
       "      <th>Predicted Not Fraud</th>\n",
       "      <th>Predicted Fraud</th>\n",
       "    </tr>\n",
       "  </thead>\n",
       "  <tbody>\n",
       "    <tr>\n",
       "      <th>Not Fraud</th>\n",
       "      <td>2135</td>\n",
       "      <td>129</td>\n",
       "    </tr>\n",
       "    <tr>\n",
       "      <th>Fraud</th>\n",
       "      <td>130</td>\n",
       "      <td>32</td>\n",
       "    </tr>\n",
       "  </tbody>\n",
       "</table>\n",
       "</div>"
      ],
      "text/plain": [
       "           Predicted Not Fraud  Predicted Fraud\n",
       "Not Fraud                 2135              129\n",
       "Fraud                      130               32"
      ]
     },
     "metadata": {},
     "output_type": "display_data"
    },
    {
     "name": "stdout",
     "output_type": "stream",
     "text": [
      "\n",
      "***************************************************************************************\n",
      "                                       MinMax Scaler\n",
      "***************************************************************************************\n",
      "\n",
      "\n",
      "              precision    recall  f1-score   support\n",
      "\n",
      "   Not Fraud       0.94      0.95      0.94      2264\n",
      "       Fraud       0.21      0.20      0.21       162\n",
      "\n",
      "    accuracy                           0.90      2426\n",
      "   macro avg       0.58      0.57      0.58      2426\n",
      "weighted avg       0.89      0.90      0.90      2426\n",
      "\n"
     ]
    },
    {
     "data": {
      "text/html": [
       "<div>\n",
       "<style scoped>\n",
       "    .dataframe tbody tr th:only-of-type {\n",
       "        vertical-align: middle;\n",
       "    }\n",
       "\n",
       "    .dataframe tbody tr th {\n",
       "        vertical-align: top;\n",
       "    }\n",
       "\n",
       "    .dataframe thead th {\n",
       "        text-align: right;\n",
       "    }\n",
       "</style>\n",
       "<table border=\"1\" class=\"dataframe\">\n",
       "  <thead>\n",
       "    <tr style=\"text-align: right;\">\n",
       "      <th></th>\n",
       "      <th>Predicted Not Fraud</th>\n",
       "      <th>Predicted Fraud</th>\n",
       "    </tr>\n",
       "  </thead>\n",
       "  <tbody>\n",
       "    <tr>\n",
       "      <th>Not Fraud</th>\n",
       "      <td>2141</td>\n",
       "      <td>123</td>\n",
       "    </tr>\n",
       "    <tr>\n",
       "      <th>Fraud</th>\n",
       "      <td>129</td>\n",
       "      <td>33</td>\n",
       "    </tr>\n",
       "  </tbody>\n",
       "</table>\n",
       "</div>"
      ],
      "text/plain": [
       "           Predicted Not Fraud  Predicted Fraud\n",
       "Not Fraud                 2141              123\n",
       "Fraud                      129               33"
      ]
     },
     "metadata": {},
     "output_type": "display_data"
    }
   ],
   "source": [
    "for name,data in data_dic.items() :\n",
    "    validation_df,X_train, X_test, y_train, y_test = split_data(data)\n",
    "    dtc = DecisionTreeClassifier()\n",
    "    dtc.fit(X_train, y_train)\n",
    "    print(\"\\n***************************************************************************************\")\n",
    "    print(\"                                       {}\".format(name))\n",
    "    print(\"***************************************************************************************\\n\\n\")\n",
    "    eval_result(dtc, X_test, y_test)"
   ]
  },
  {
   "cell_type": "markdown",
   "id": "b9346fd2",
   "metadata": {},
   "source": [
    "### XGB Classifier"
   ]
  },
  {
   "cell_type": "code",
   "execution_count": 7,
   "id": "f40de92a",
   "metadata": {},
   "outputs": [
    {
     "name": "stdout",
     "output_type": "stream",
     "text": [
      "\n",
      "***************************************************************************************\n",
      "                                       Standard Scaler\n",
      "***************************************************************************************\n",
      "\n",
      "\n",
      "              precision    recall  f1-score   support\n",
      "\n",
      "   Not Fraud       0.95      0.97      0.96      2264\n",
      "       Fraud       0.33      0.23      0.27       162\n",
      "\n",
      "    accuracy                           0.92      2426\n",
      "   macro avg       0.64      0.60      0.61      2426\n",
      "weighted avg       0.91      0.92      0.91      2426\n",
      "\n"
     ]
    },
    {
     "data": {
      "text/html": [
       "<div>\n",
       "<style scoped>\n",
       "    .dataframe tbody tr th:only-of-type {\n",
       "        vertical-align: middle;\n",
       "    }\n",
       "\n",
       "    .dataframe tbody tr th {\n",
       "        vertical-align: top;\n",
       "    }\n",
       "\n",
       "    .dataframe thead th {\n",
       "        text-align: right;\n",
       "    }\n",
       "</style>\n",
       "<table border=\"1\" class=\"dataframe\">\n",
       "  <thead>\n",
       "    <tr style=\"text-align: right;\">\n",
       "      <th></th>\n",
       "      <th>Predicted Not Fraud</th>\n",
       "      <th>Predicted Fraud</th>\n",
       "    </tr>\n",
       "  </thead>\n",
       "  <tbody>\n",
       "    <tr>\n",
       "      <th>Not Fraud</th>\n",
       "      <td>2190</td>\n",
       "      <td>74</td>\n",
       "    </tr>\n",
       "    <tr>\n",
       "      <th>Fraud</th>\n",
       "      <td>125</td>\n",
       "      <td>37</td>\n",
       "    </tr>\n",
       "  </tbody>\n",
       "</table>\n",
       "</div>"
      ],
      "text/plain": [
       "           Predicted Not Fraud  Predicted Fraud\n",
       "Not Fraud                 2190               74\n",
       "Fraud                      125               37"
      ]
     },
     "metadata": {},
     "output_type": "display_data"
    },
    {
     "name": "stdout",
     "output_type": "stream",
     "text": [
      "\n",
      "***************************************************************************************\n",
      "                                       Robust Scaler\n",
      "***************************************************************************************\n",
      "\n",
      "\n",
      "              precision    recall  f1-score   support\n",
      "\n",
      "   Not Fraud       0.94      0.97      0.96      2264\n",
      "       Fraud       0.30      0.20      0.24       162\n",
      "\n",
      "    accuracy                           0.92      2426\n",
      "   macro avg       0.62      0.58      0.60      2426\n",
      "weighted avg       0.90      0.92      0.91      2426\n",
      "\n"
     ]
    },
    {
     "data": {
      "text/html": [
       "<div>\n",
       "<style scoped>\n",
       "    .dataframe tbody tr th:only-of-type {\n",
       "        vertical-align: middle;\n",
       "    }\n",
       "\n",
       "    .dataframe tbody tr th {\n",
       "        vertical-align: top;\n",
       "    }\n",
       "\n",
       "    .dataframe thead th {\n",
       "        text-align: right;\n",
       "    }\n",
       "</style>\n",
       "<table border=\"1\" class=\"dataframe\">\n",
       "  <thead>\n",
       "    <tr style=\"text-align: right;\">\n",
       "      <th></th>\n",
       "      <th>Predicted Not Fraud</th>\n",
       "      <th>Predicted Fraud</th>\n",
       "    </tr>\n",
       "  </thead>\n",
       "  <tbody>\n",
       "    <tr>\n",
       "      <th>Not Fraud</th>\n",
       "      <td>2189</td>\n",
       "      <td>75</td>\n",
       "    </tr>\n",
       "    <tr>\n",
       "      <th>Fraud</th>\n",
       "      <td>130</td>\n",
       "      <td>32</td>\n",
       "    </tr>\n",
       "  </tbody>\n",
       "</table>\n",
       "</div>"
      ],
      "text/plain": [
       "           Predicted Not Fraud  Predicted Fraud\n",
       "Not Fraud                 2189               75\n",
       "Fraud                      130               32"
      ]
     },
     "metadata": {},
     "output_type": "display_data"
    },
    {
     "name": "stdout",
     "output_type": "stream",
     "text": [
      "\n",
      "***************************************************************************************\n",
      "                                       MinMax Scaler\n",
      "***************************************************************************************\n",
      "\n",
      "\n",
      "              precision    recall  f1-score   support\n",
      "\n",
      "   Not Fraud       0.94      0.97      0.95      2264\n",
      "       Fraud       0.29      0.20      0.24       162\n",
      "\n",
      "    accuracy                           0.91      2426\n",
      "   macro avg       0.62      0.58      0.60      2426\n",
      "weighted avg       0.90      0.91      0.91      2426\n",
      "\n"
     ]
    },
    {
     "data": {
      "text/html": [
       "<div>\n",
       "<style scoped>\n",
       "    .dataframe tbody tr th:only-of-type {\n",
       "        vertical-align: middle;\n",
       "    }\n",
       "\n",
       "    .dataframe tbody tr th {\n",
       "        vertical-align: top;\n",
       "    }\n",
       "\n",
       "    .dataframe thead th {\n",
       "        text-align: right;\n",
       "    }\n",
       "</style>\n",
       "<table border=\"1\" class=\"dataframe\">\n",
       "  <thead>\n",
       "    <tr style=\"text-align: right;\">\n",
       "      <th></th>\n",
       "      <th>Predicted Not Fraud</th>\n",
       "      <th>Predicted Fraud</th>\n",
       "    </tr>\n",
       "  </thead>\n",
       "  <tbody>\n",
       "    <tr>\n",
       "      <th>Not Fraud</th>\n",
       "      <td>2185</td>\n",
       "      <td>79</td>\n",
       "    </tr>\n",
       "    <tr>\n",
       "      <th>Fraud</th>\n",
       "      <td>129</td>\n",
       "      <td>33</td>\n",
       "    </tr>\n",
       "  </tbody>\n",
       "</table>\n",
       "</div>"
      ],
      "text/plain": [
       "           Predicted Not Fraud  Predicted Fraud\n",
       "Not Fraud                 2185               79\n",
       "Fraud                      129               33"
      ]
     },
     "metadata": {},
     "output_type": "display_data"
    }
   ],
   "source": [
    "for name,data in data_dic.items() :\n",
    "    validation_df,X_train, X_test, y_train, y_test = split_data(data)\n",
    "    xgbr = XGBClassifier(n_jobs = -1,scale_pos_weight = 10,eval_metric = 'logloss')\n",
    "    xgbr.fit(X_train, y_train)\n",
    "    print(\"\\n***************************************************************************************\")\n",
    "    print(\"                                       {}\".format(name))\n",
    "    print(\"***************************************************************************************\\n\\n\")\n",
    "    eval_result(xgbr, X_test, y_test)"
   ]
  },
  {
   "cell_type": "markdown",
   "id": "7564d3ac",
   "metadata": {},
   "source": [
    "### MLP Classifier"
   ]
  },
  {
   "cell_type": "markdown",
   "id": "d01a49f5",
   "metadata": {},
   "source": [
    "I realized by changing the decision threshold, we can get a better F-score for MLP Classifier"
   ]
  },
  {
   "cell_type": "code",
   "execution_count": 8,
   "id": "eb355bf7",
   "metadata": {},
   "outputs": [
    {
     "name": "stdout",
     "output_type": "stream",
     "text": [
      "\n",
      "***************************************************************************************\n",
      "                                       Standard Scaler\n",
      "***************************************************************************************\n",
      "\n",
      "\n",
      "              precision    recall  f1-score   support\n",
      "\n",
      "   Not Fraud       0.96      0.87      0.91      2264\n",
      "       Fraud       0.19      0.43      0.27       162\n",
      "\n",
      "    accuracy                           0.84      2426\n",
      "   macro avg       0.57      0.65      0.59      2426\n",
      "weighted avg       0.90      0.84      0.87      2426\n",
      "\n"
     ]
    },
    {
     "data": {
      "text/html": [
       "<div>\n",
       "<style scoped>\n",
       "    .dataframe tbody tr th:only-of-type {\n",
       "        vertical-align: middle;\n",
       "    }\n",
       "\n",
       "    .dataframe tbody tr th {\n",
       "        vertical-align: top;\n",
       "    }\n",
       "\n",
       "    .dataframe thead th {\n",
       "        text-align: right;\n",
       "    }\n",
       "</style>\n",
       "<table border=\"1\" class=\"dataframe\">\n",
       "  <thead>\n",
       "    <tr style=\"text-align: right;\">\n",
       "      <th></th>\n",
       "      <th>Predicted Not Fraud</th>\n",
       "      <th>Predicted Fraud</th>\n",
       "    </tr>\n",
       "  </thead>\n",
       "  <tbody>\n",
       "    <tr>\n",
       "      <th>Not Fraud</th>\n",
       "      <td>1975</td>\n",
       "      <td>289</td>\n",
       "    </tr>\n",
       "    <tr>\n",
       "      <th>Fraud</th>\n",
       "      <td>93</td>\n",
       "      <td>69</td>\n",
       "    </tr>\n",
       "  </tbody>\n",
       "</table>\n",
       "</div>"
      ],
      "text/plain": [
       "           Predicted Not Fraud  Predicted Fraud\n",
       "Not Fraud                 1975              289\n",
       "Fraud                       93               69"
      ]
     },
     "metadata": {},
     "output_type": "display_data"
    },
    {
     "name": "stdout",
     "output_type": "stream",
     "text": [
      "\n",
      "***************************************************************************************\n",
      "                                       Robust Scaler\n",
      "***************************************************************************************\n",
      "\n",
      "\n",
      "              precision    recall  f1-score   support\n",
      "\n",
      "   Not Fraud       0.96      0.81      0.88      2264\n",
      "       Fraud       0.18      0.57      0.27       162\n",
      "\n",
      "    accuracy                           0.79      2426\n",
      "   macro avg       0.57      0.69      0.57      2426\n",
      "weighted avg       0.91      0.79      0.84      2426\n",
      "\n"
     ]
    },
    {
     "data": {
      "text/html": [
       "<div>\n",
       "<style scoped>\n",
       "    .dataframe tbody tr th:only-of-type {\n",
       "        vertical-align: middle;\n",
       "    }\n",
       "\n",
       "    .dataframe tbody tr th {\n",
       "        vertical-align: top;\n",
       "    }\n",
       "\n",
       "    .dataframe thead th {\n",
       "        text-align: right;\n",
       "    }\n",
       "</style>\n",
       "<table border=\"1\" class=\"dataframe\">\n",
       "  <thead>\n",
       "    <tr style=\"text-align: right;\">\n",
       "      <th></th>\n",
       "      <th>Predicted Not Fraud</th>\n",
       "      <th>Predicted Fraud</th>\n",
       "    </tr>\n",
       "  </thead>\n",
       "  <tbody>\n",
       "    <tr>\n",
       "      <th>Not Fraud</th>\n",
       "      <td>1832</td>\n",
       "      <td>432</td>\n",
       "    </tr>\n",
       "    <tr>\n",
       "      <th>Fraud</th>\n",
       "      <td>70</td>\n",
       "      <td>92</td>\n",
       "    </tr>\n",
       "  </tbody>\n",
       "</table>\n",
       "</div>"
      ],
      "text/plain": [
       "           Predicted Not Fraud  Predicted Fraud\n",
       "Not Fraud                 1832              432\n",
       "Fraud                       70               92"
      ]
     },
     "metadata": {},
     "output_type": "display_data"
    },
    {
     "name": "stdout",
     "output_type": "stream",
     "text": [
      "\n",
      "***************************************************************************************\n",
      "                                       MinMax Scaler\n",
      "***************************************************************************************\n",
      "\n",
      "\n",
      "              precision    recall  f1-score   support\n",
      "\n",
      "   Not Fraud       0.96      0.81      0.88      2264\n",
      "       Fraud       0.17      0.55      0.26       162\n",
      "\n",
      "    accuracy                           0.79      2426\n",
      "   macro avg       0.57      0.68      0.57      2426\n",
      "weighted avg       0.91      0.79      0.84      2426\n",
      "\n"
     ]
    },
    {
     "data": {
      "text/html": [
       "<div>\n",
       "<style scoped>\n",
       "    .dataframe tbody tr th:only-of-type {\n",
       "        vertical-align: middle;\n",
       "    }\n",
       "\n",
       "    .dataframe tbody tr th {\n",
       "        vertical-align: top;\n",
       "    }\n",
       "\n",
       "    .dataframe thead th {\n",
       "        text-align: right;\n",
       "    }\n",
       "</style>\n",
       "<table border=\"1\" class=\"dataframe\">\n",
       "  <thead>\n",
       "    <tr style=\"text-align: right;\">\n",
       "      <th></th>\n",
       "      <th>Predicted Not Fraud</th>\n",
       "      <th>Predicted Fraud</th>\n",
       "    </tr>\n",
       "  </thead>\n",
       "  <tbody>\n",
       "    <tr>\n",
       "      <th>Not Fraud</th>\n",
       "      <td>1835</td>\n",
       "      <td>429</td>\n",
       "    </tr>\n",
       "    <tr>\n",
       "      <th>Fraud</th>\n",
       "      <td>73</td>\n",
       "      <td>89</td>\n",
       "    </tr>\n",
       "  </tbody>\n",
       "</table>\n",
       "</div>"
      ],
      "text/plain": [
       "           Predicted Not Fraud  Predicted Fraud\n",
       "Not Fraud                 1835              429\n",
       "Fraud                       73               89"
      ]
     },
     "metadata": {},
     "output_type": "display_data"
    }
   ],
   "source": [
    "for name,data in data_dic.items() :\n",
    "    validation_df,X_train, X_test, y_train, y_test = split_data(data)\n",
    "    mlpc = MLPClassifier(hidden_layer_sizes=20,learning_rate=\"adaptive\",max_iter=1000)\n",
    "    mlpc.fit(X_train, y_train)\n",
    "    print(\"\\n***************************************************************************************\")\n",
    "    print(\"                                       {}\".format(name))\n",
    "    print(\"***************************************************************************************\\n\\n\")\n",
    "    eval_result_with_threshold(mlpc, X_test, y_test,threshold=0.9)"
   ]
  },
  {
   "cell_type": "markdown",
   "id": "0a273a2e",
   "metadata": {},
   "source": [
    "### Random Forest Classifier"
   ]
  },
  {
   "cell_type": "markdown",
   "id": "dc527caf",
   "metadata": {},
   "source": [
    "I realized by changing the decision threshold, we can get a better F-score for Random Forest Classifier"
   ]
  },
  {
   "cell_type": "code",
   "execution_count": 13,
   "id": "b33a3012",
   "metadata": {},
   "outputs": [
    {
     "name": "stdout",
     "output_type": "stream",
     "text": [
      "\n",
      "***************************************************************************************\n",
      "                                       Standard Scaler\n",
      "***************************************************************************************\n",
      "\n",
      "\n",
      "              precision    recall  f1-score   support\n",
      "\n",
      "   Not Fraud       0.95      0.96      0.95      2264\n",
      "       Fraud       0.31      0.25      0.28       162\n",
      "\n",
      "    accuracy                           0.91      2426\n",
      "   macro avg       0.63      0.60      0.61      2426\n",
      "weighted avg       0.90      0.91      0.91      2426\n",
      "\n"
     ]
    },
    {
     "data": {
      "text/html": [
       "<div>\n",
       "<style scoped>\n",
       "    .dataframe tbody tr th:only-of-type {\n",
       "        vertical-align: middle;\n",
       "    }\n",
       "\n",
       "    .dataframe tbody tr th {\n",
       "        vertical-align: top;\n",
       "    }\n",
       "\n",
       "    .dataframe thead th {\n",
       "        text-align: right;\n",
       "    }\n",
       "</style>\n",
       "<table border=\"1\" class=\"dataframe\">\n",
       "  <thead>\n",
       "    <tr style=\"text-align: right;\">\n",
       "      <th></th>\n",
       "      <th>Predicted Not Fraud</th>\n",
       "      <th>Predicted Fraud</th>\n",
       "    </tr>\n",
       "  </thead>\n",
       "  <tbody>\n",
       "    <tr>\n",
       "      <th>Not Fraud</th>\n",
       "      <td>2176</td>\n",
       "      <td>88</td>\n",
       "    </tr>\n",
       "    <tr>\n",
       "      <th>Fraud</th>\n",
       "      <td>122</td>\n",
       "      <td>40</td>\n",
       "    </tr>\n",
       "  </tbody>\n",
       "</table>\n",
       "</div>"
      ],
      "text/plain": [
       "           Predicted Not Fraud  Predicted Fraud\n",
       "Not Fraud                 2176               88\n",
       "Fraud                      122               40"
      ]
     },
     "metadata": {},
     "output_type": "display_data"
    },
    {
     "name": "stdout",
     "output_type": "stream",
     "text": [
      "\n",
      "***************************************************************************************\n",
      "                                       Robust Scaler\n",
      "***************************************************************************************\n",
      "\n",
      "\n",
      "              precision    recall  f1-score   support\n",
      "\n",
      "   Not Fraud       0.95      0.96      0.95      2264\n",
      "       Fraud       0.30      0.24      0.27       162\n",
      "\n",
      "    accuracy                           0.91      2426\n",
      "   macro avg       0.62      0.60      0.61      2426\n",
      "weighted avg       0.90      0.91      0.91      2426\n",
      "\n"
     ]
    },
    {
     "data": {
      "text/html": [
       "<div>\n",
       "<style scoped>\n",
       "    .dataframe tbody tr th:only-of-type {\n",
       "        vertical-align: middle;\n",
       "    }\n",
       "\n",
       "    .dataframe tbody tr th {\n",
       "        vertical-align: top;\n",
       "    }\n",
       "\n",
       "    .dataframe thead th {\n",
       "        text-align: right;\n",
       "    }\n",
       "</style>\n",
       "<table border=\"1\" class=\"dataframe\">\n",
       "  <thead>\n",
       "    <tr style=\"text-align: right;\">\n",
       "      <th></th>\n",
       "      <th>Predicted Not Fraud</th>\n",
       "      <th>Predicted Fraud</th>\n",
       "    </tr>\n",
       "  </thead>\n",
       "  <tbody>\n",
       "    <tr>\n",
       "      <th>Not Fraud</th>\n",
       "      <td>2174</td>\n",
       "      <td>90</td>\n",
       "    </tr>\n",
       "    <tr>\n",
       "      <th>Fraud</th>\n",
       "      <td>123</td>\n",
       "      <td>39</td>\n",
       "    </tr>\n",
       "  </tbody>\n",
       "</table>\n",
       "</div>"
      ],
      "text/plain": [
       "           Predicted Not Fraud  Predicted Fraud\n",
       "Not Fraud                 2174               90\n",
       "Fraud                      123               39"
      ]
     },
     "metadata": {},
     "output_type": "display_data"
    },
    {
     "name": "stdout",
     "output_type": "stream",
     "text": [
      "\n",
      "***************************************************************************************\n",
      "                                       MinMax Scaler\n",
      "***************************************************************************************\n",
      "\n",
      "\n",
      "              precision    recall  f1-score   support\n",
      "\n",
      "   Not Fraud       0.94      0.96      0.95      2264\n",
      "       Fraud       0.28      0.20      0.24       162\n",
      "\n",
      "    accuracy                           0.91      2426\n",
      "   macro avg       0.61      0.58      0.59      2426\n",
      "weighted avg       0.90      0.91      0.91      2426\n",
      "\n"
     ]
    },
    {
     "data": {
      "text/html": [
       "<div>\n",
       "<style scoped>\n",
       "    .dataframe tbody tr th:only-of-type {\n",
       "        vertical-align: middle;\n",
       "    }\n",
       "\n",
       "    .dataframe tbody tr th {\n",
       "        vertical-align: top;\n",
       "    }\n",
       "\n",
       "    .dataframe thead th {\n",
       "        text-align: right;\n",
       "    }\n",
       "</style>\n",
       "<table border=\"1\" class=\"dataframe\">\n",
       "  <thead>\n",
       "    <tr style=\"text-align: right;\">\n",
       "      <th></th>\n",
       "      <th>Predicted Not Fraud</th>\n",
       "      <th>Predicted Fraud</th>\n",
       "    </tr>\n",
       "  </thead>\n",
       "  <tbody>\n",
       "    <tr>\n",
       "      <th>Not Fraud</th>\n",
       "      <td>2179</td>\n",
       "      <td>85</td>\n",
       "    </tr>\n",
       "    <tr>\n",
       "      <th>Fraud</th>\n",
       "      <td>129</td>\n",
       "      <td>33</td>\n",
       "    </tr>\n",
       "  </tbody>\n",
       "</table>\n",
       "</div>"
      ],
      "text/plain": [
       "           Predicted Not Fraud  Predicted Fraud\n",
       "Not Fraud                 2179               85\n",
       "Fraud                      129               33"
      ]
     },
     "metadata": {},
     "output_type": "display_data"
    }
   ],
   "source": [
    "for name,data in data_dic.items() :\n",
    "    validation_df,X_train, X_test, y_train, y_test = split_data(data)\n",
    "    rfc = RandomForestClassifier(class_weight=\"balanced_subsample\")\n",
    "    rfc.fit(X_train, y_train)\n",
    "    print(\"\\n***************************************************************************************\")\n",
    "    print(\"                                       {}\".format(name))\n",
    "    print(\"***************************************************************************************\\n\\n\")\n",
    "    eval_result_with_threshold(rfc, X_test, y_test,threshold=0.8)"
   ]
  },
  {
   "cell_type": "markdown",
   "id": "12900dce",
   "metadata": {},
   "source": [
    "### Results"
   ]
  },
  {
   "cell_type": "markdown",
   "id": "86c794f4",
   "metadata": {},
   "source": [
    "- Overall **standard scaler** showed a better average performance than the other normalization methods.\n",
    "<br>\n",
    "- The best F-score for **Not Fraud** category is **0.96** and the best F-score for **Fraud** category is **0.28**. It could be because of the bias in the data where we had much less fraudulent data than non fraudulent data.\n",
    "<br>\n",
    "- The best F-score macro avg is **0.61** for **XGBosst** and **RandomForestClassifier**. with **0.92** and **0.91** accuracy respectively.\n",
    "<br>\n",
    "- Logistic Regression Classifier has significantly better Recal macro Avg than the other algorithms. That means this Alg tries to predict as much as Positive cases as possible even at the cost of sacrificing the precision (have more Faluse Psotive cases)\n",
    "<br>\n",
    "- Based on the priority of the company if they want to have better precision or recall we can tune the hyperparameters of algorithms to make them the best posiible for either precision or recall. In this notebook I tried to focus on F-score rather than precision or recall individuslly.\n"
   ]
  },
  {
   "cell_type": "code",
   "execution_count": null,
   "id": "3b49305b",
   "metadata": {},
   "outputs": [],
   "source": []
  }
 ],
 "metadata": {
  "kernelspec": {
   "display_name": "Python 3 (ipykernel)",
   "language": "python",
   "name": "python3"
  },
  "language_info": {
   "codemirror_mode": {
    "name": "ipython",
    "version": 3
   },
   "file_extension": ".py",
   "mimetype": "text/x-python",
   "name": "python",
   "nbconvert_exporter": "python",
   "pygments_lexer": "ipython3",
   "version": "3.10.9"
  }
 },
 "nbformat": 4,
 "nbformat_minor": 5
}
